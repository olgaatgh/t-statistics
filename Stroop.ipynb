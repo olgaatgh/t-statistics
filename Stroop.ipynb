{
 "cells": [
  {
   "cell_type": "markdown",
   "metadata": {},
   "source": [
    "## Question 1:  identify variables in experiment\n",
    "* independent variable: type of the test (congruent or incongruent)\n",
    "* dependent variable: time spent on test (measured in seconds)\n",
    "\n",
    "## Question 2a: Establish hypothesis\n",
    "\n",
    "I am provided with two samples of data from congruent and incongruent parts of Stroop test. I want to establish if these two samples are from statistically different populations (sample means are different because the two populations and population means are different) or just by chance. \n",
    "\n",
    "* Null hypothesis $H_{0}$: There is no significant difference between congruent and incongruent parts of test. If $\\mu_{c}$ is a hypothetical average of all congruent test results and $\\mu_{i}$ - same for incongruent, $H_{0}$:  $\\mu_{i} = \\mu_{c}$\n",
    "* Alternative hypothesis $H_{A}$: there is a statistically significant difference between congruent and incongruent tests. Moreover, I expect the incongruent test takes longer time to complete based on my own experience, thus $H_{A}$: $\\mu_{i} > \\mu_{c}$\n",
    "\n",
    "## Question 2b: Statistical test\n",
    "\n",
    "Since I do not know the variances of two population distributions, I will perform one-sided t-test using provided data on two samples. T-test is commonly used with small sample sizes (in my case the sample size is 24). I also assume that the distributions are normal.\n",
    "\n",
    "* I will run t-test to see if there is a statistically significant difference between two types of test: single-tailed study, alpha level 0.05.\n",
    "\n",
    "* I need to calulate t-statistic and compare it to t-critical value. If my t-statistic falls outside of t-critical at the right-hand side of probability distribution, then I reject the null hypothesis, otherwise I fail to reject the null.\n",
    "\n",
    "* To calculate t-statistic I will need to find means and standard deviations of the congruent and incongruent samples.\n",
    "then t-stat = $\\frac{\\mu_{i}-\\mu_{c}}{\\frac{S_{difference}}{\\sqrt{n}}}$  \n",
    "where $S_{difference}$ is a standard deviation of the sample difference calculated using Bessel's correction, and n=24.\n"
   ]
  },
  {
   "cell_type": "code",
   "execution_count": 6,
   "metadata": {
    "collapsed": false
   },
   "outputs": [],
   "source": [
    "# import all necessary packages and functions.\n",
    "import csv\n",
    "from datetime import datetime\n",
    "import numpy as np\n",
    "import pandas as pd\n",
    "from IPython.display import display\n",
    "import matplotlib.pyplot as plt"
   ]
  },
  {
   "cell_type": "code",
   "execution_count": 7,
   "metadata": {
    "collapsed": false
   },
   "outputs": [],
   "source": [
    "# loading Stroop data from .csv file\n",
    "# columns:\n",
    "data = np.genfromtxt('P1-Stroop_data1.csv', delimiter=',', dtype=None)\n",
    "congr = data[:,0]\n",
    "incongr = data[:,1]"
   ]
  },
  {
   "cell_type": "code",
   "execution_count": 8,
   "metadata": {
    "collapsed": false,
    "scrolled": true
   },
   "outputs": [
    {
     "name": "stdout",
     "output_type": "stream",
     "text": [
      "congruent times  [ 12.079  16.791   9.564   8.63   14.669  12.238  14.692   8.987   9.401\n",
      "  14.48   22.328  15.298  15.073  16.929  18.2    12.13   18.495  10.639\n",
      "  11.344  12.369  12.944  14.233  19.71   16.004]\n",
      "\n",
      "incongruent times  [ 19.278  18.741  21.214  15.687  22.803  20.878  24.572  17.394  20.762\n",
      "  26.282  24.524  18.644  17.51   20.33   35.255  22.158  25.139  20.429\n",
      "  17.425  34.288  23.894  17.96   22.058  21.157]\n"
     ]
    }
   ],
   "source": [
    "print \"congruent times \",congr\n",
    "print\n",
    "print \"incongruent times \",incongr"
   ]
  },
  {
   "cell_type": "markdown",
   "metadata": {},
   "source": [
    "## Question 3: Report descriptive statistics\n",
    "\n",
    "* congruent stats:  $\\bar{x_{c}} = 14.051125$,   standard deviation using Bessel's correction $s_{c} = 3.55935795765$\n",
    "* incongruent stats:  $\\bar{x_{i}} = 22.0159166667$,   standard deviation using Bessel's correction $s_{i} = 4.79705712247$"
   ]
  },
  {
   "cell_type": "code",
   "execution_count": 11,
   "metadata": {
    "collapsed": false
   },
   "outputs": [
    {
     "name": "stdout",
     "output_type": "stream",
     "text": [
      " congruent stats:  mean = 14.051125   standard deviation s = 3.55935795765\n",
      "incongruent stats:  mean = 22.0159166667   standard deviation s = 4.79705712247\n"
     ]
    }
   ],
   "source": [
    "#statistics\n",
    "\n",
    "def stats(data_list):\n",
    "    return np.mean(data_list),np.std(data_list, ddof=1)\n",
    "congr_mean, congr_std = stats(congr)\n",
    "incongr_mean, incongr_std = stats(incongr)\n",
    "\n",
    "print \"congruent stats: \", \"mean =\",congr_mean, \"  standard deviation s =\",congr_std\n",
    "print \"incongruent stats: \", \"mean =\",incongr_mean, \"  standard deviation s =\",incongr_std"
   ]
  },
  {
   "cell_type": "markdown",
   "metadata": {},
   "source": [
    "## Question 4: Visualization\n",
    "\n",
    "* Histograms with bins = 2.5 are plotted for \"congruent\" and \"incongruent\" sets of data. The data are \"bell-shaped\",for the purpose of this study I conclude the data are normally distributed. There is a visible difference between the means of two distributions.\n",
    "* Also, for the incongruent data I see some grouping around 35 sec. For some reasons, there is a group of people, for whom the incongruent part of the test was especially challenging.  My results were similar: it took me 2.3 times longer to complete the second part of the test. Since the test is in English, is it possible that not native English speakers (like myself) find the incongruent part even more difficult? On top of the image recognition the brain should also run English translation... This could be an interesting study."
   ]
  },
  {
   "cell_type": "code",
   "execution_count": 15,
   "metadata": {
    "collapsed": false,
    "scrolled": true
   },
   "outputs": [
    {
     "data": {
      "image/png": "[encoded data removed]",
      "text/plain": [
       "<matplotlib.figure.Figure at 0x11983be50>"
      ]
     },
     "metadata": {},
     "output_type": "display_data"
    }
   ],
   "source": [
    "#bin size = 2.5\n",
    "bins = np.linspace(0, 50, 20)\n",
    "\n",
    "plt.hist(congr, bins, alpha=0.5, label='congruent')\n",
    "plt.hist(incongr, bins, alpha=0.5, label='incongruent')\n",
    "plt.legend(loc='upper right')\n",
    "plt.show()\n"
   ]
  },
  {
   "cell_type": "markdown",
   "metadata": {},
   "source": [
    "## Question 5: Statistical test\n",
    "\n",
    "* for single-tailed study the t-critical value at p=.05 and the degree of freedome=23 is: t-critical=1.714\n",
    "* point estimate for the difference of the means is: 7.96479166667, $S_{difference}$ = 4.86482691036 using Bessel's correction, SE = 0.993028634778 \n",
    "* Based on my calulations t-statistic = 8.02070694411 which is well beyond t-critical value. From http://www.graphpad.com/quickcalcs/pValue2/  P-value is less than 0.0001. Confidence interval is (6.26274058666 , 9.66684274668)\n",
    "* the result is statistically significant and I reject $H_{0}$.\n",
    "\n",
    "**The result from the study based on two samples is what I was expecting: the incongruent part of Stroop test takes longer time to complete.** \n"
   ]
  },
  {
   "cell_type": "code",
   "execution_count": 26,
   "metadata": {
    "collapsed": false
   },
   "outputs": [
    {
     "name": "stdout",
     "output_type": "stream",
     "text": [
      "mean Difference  7.96479166667\n",
      "standard deviation of Difference  4.86482691036\n",
      "standard error SE  0.993028634778\n",
      "t-statistic = 8.02070694411\n",
      "Confidence Interval = ( 6.26274058666 , 9.66684274668 )\n"
     ]
    }
   ],
   "source": [
    "t_cr = 1.714\n",
    "\n",
    "#mean difference\n",
    "#mean_D = incongr_mean - congr_mean\n",
    "D = incongr-congr\n",
    "D_mean = np.mean(D)\n",
    "\n",
    "#standard deviation of difference (w/Bessel's correction)\n",
    "D_std = np.std(D,ddof=1)\n",
    "\n",
    "#standard error\n",
    "SE = D_std/np.power(len(congr),0.5)\n",
    "\n",
    "print \"mean Difference \",D_mean\n",
    "print \"standard deviation of Difference \",D_std\n",
    "print \"standard error SE \", SE\n",
    "\n",
    "#t-statistics\n",
    "t_statistic = D_mean/SE\n",
    "print \"t-statistic =\", t_statistic\n",
    "\n",
    "#Confidence interval for the mean difference\n",
    "conf_int1 = D_mean-t_cr*SE\n",
    "conf_int2 = D_mean+t_cr*SE\n",
    "\n",
    "print \"Confidence Interval = (\",conf_int1,\",\", conf_int2,\")\"\n"
   ]
  },
  {
   "cell_type": "markdown",
   "metadata": {},
   "source": [
    "## Question 6: Discussion\n",
    "\n",
    "Stroop test elucidates the underlining cognitive processes, such as selective attention, automaticity, processing speed. Different parts of our brain are responsible for reading words or recognizing colors. Different variations of Stroop test are used by psychologists to study the ways the information is processed by the human brain. Here are couple examples: (A) recognizing the emotion by the picture (proxy for color) and reading the word that describes this emotion; (B) the name of the animal and its picture:\n",
    "![alt text](emotionalstroop.jpg)\n",
    "![alt text](animalsstroop.jpg)"
   ]
  },
  {
   "cell_type": "markdown",
   "metadata": {
    "collapsed": true
   },
   "source": [
    "## References:\n",
    "* [1] https://en.wikipedia.org/wiki/Stroop_effect\n",
    "* [2] https://thestroopeffect.wikispaces.com/Variations+of+the+Stroop+Test\n",
    "\n"
   ]
  }
 ],
 "metadata": {
  "anaconda-cloud": {},
  "kernelspec": {
   "display_name": "Python [default]",
   "language": "python",
   "name": "python2"
  },
  "language_info": {
   "codemirror_mode": {
    "name": "ipython",
    "version": 2
   },
   "file_extension": ".py",
   "mimetype": "text/x-python",
   "name": "python",
   "nbconvert_exporter": "python",
   "pygments_lexer": "ipython2",
   "version": "2.7.12"
  }
 },
 "nbformat": 4,
 "nbformat_minor": 2
}
